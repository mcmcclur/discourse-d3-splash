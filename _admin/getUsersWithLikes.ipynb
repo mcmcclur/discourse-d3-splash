{
 "cells": [
  {
   "cell_type": "markdown",
   "id": "06b408e8-e465-4b74-830b-29f962f91c86",
   "metadata": {},
   "source": [
    "# Get user info from a Discourse instance"
   ]
  },
  {
   "cell_type": "markdown",
   "id": "a9204a22-9a98-41fd-a832-b705355fa17d",
   "metadata": {},
   "source": [
    "Use the Discourse API to download some fun information to display in a bubble chart."
   ]
  },
  {
   "cell_type": "code",
   "execution_count": 7,
   "id": "48644ed2-a0d5-4c1d-85bb-2cf67b9689c6",
   "metadata": {},
   "outputs": [],
   "source": [
    "import requests\n",
    "import json\n",
    "from urllib.parse import urljoin\n",
    "\n",
    "API_KEY = \"you'll need an API Key\"\n",
    "DISCOURSE_URL = \"https://discourse.marksmath.org\" # or your site\n",
    "API_USERNAME = \"mark\"  # or your username"
   ]
  },
  {
   "cell_type": "code",
   "execution_count": 2,
   "id": "0c8b1b22-7ed3-4e43-b23c-2bb935779593",
   "metadata": {},
   "outputs": [],
   "source": [
    "def _headers():\n",
    "    return {\n",
    "        \"Api-Key\": API_KEY,\n",
    "        \"Api-Username\": API_USERNAME,\n",
    "    }\n",
    "\n",
    "def _avatar_url(base_url: str, avatar_template: str, size: int = 120) -> str:\n",
    "    \"\"\"\n",
    "    Discourse returns an avatar_template like:\n",
    "      \"/user_avatar/discourse.example.com/mark/{size}/123_2.png\"\n",
    "    Replace {size} and join with base URL.\n",
    "    \"\"\"\n",
    "    if not avatar_template:\n",
    "        return \"\"\n",
    "    return urljoin(base_url, avatar_template.replace(\"{size}\", str(size)))\n",
    "\n",
    "def fetch_user_directory(\n",
    "    base_url: str,\n",
    "    order: str = \"likes_received\",\n",
    "    period: str = \"all\",   # typical values: 'all', 'yearly', 'quarterly', 'monthly', 'weekly', 'daily'\n",
    "    limit: int = 50,\n",
    "    avatar_size: int = 120,\n",
    ") -> list[dict]:\n",
    "    \"\"\"\n",
    "    Fetch up to `limit` users from the Discourse user directory, ordered by `order`.\n",
    "    Returns a list of dicts with username, name, activity metrics, and avatar_url.\n",
    "    Requires the 'user directory' feature to be enabled on the Discourse site.\n",
    "    \"\"\"\n",
    "    collected = []\n",
    "    page = 0\n",
    "\n",
    "    while len(collected) < limit:\n",
    "        url = f\"{base_url}/directory_items.json\"\n",
    "        params = {\n",
    "            \"period\": period,\n",
    "            \"order\": order,\n",
    "            \"page\": page,\n",
    "        }\n",
    "        r = requests.get(url, headers=_headers(), params=params, timeout=30)\n",
    "        if r.status_code == 404:\n",
    "            raise RuntimeError(\n",
    "                \"User directory not enabled or not visible to this API key. \"\n",
    "                \"Ask an admin to enable 'enable user directory' or use an admin users list endpoint.\"\n",
    "            )\n",
    "        r.raise_for_status()\n",
    "        payload = r.json()\n",
    "\n",
    "        items = payload.get(\"directory_items\", [])\n",
    "        if not items:\n",
    "            break  # no more results\n",
    "\n",
    "        for it in items:\n",
    "            u = it.get(\"user\", {}) or {}\n",
    "            row = {\n",
    "                \"username\": u.get(\"username\"),\n",
    "                \"name\": u.get(\"name\"),\n",
    "                \"likes_received\": it.get(\"likes_received\"),\n",
    "                \"likes_given\": it.get(\"likes_given\"),\n",
    "                \"post_count\": it.get(\"post_count\"),\n",
    "                \"topic_count\": it.get(\"topic_count\"),\n",
    "                \"time_read\": it.get(\"time_read\"),           # seconds\n",
    "                \"days_visited\": it.get(\"days_visited\"),\n",
    "                \"posts_read\": it.get(\"posts_read\"),\n",
    "                \"recent_time_read\": it.get(\"recent_time_read\"),\n",
    "                \"recent_posts_read\": it.get(\"recent_posts_read\"),\n",
    "                \"avatar_url\": _avatar_url(base_url, u.get(\"avatar_template\"), size=avatar_size),\n",
    "                \"user_id\": u.get(\"id\"),\n",
    "            }\n",
    "            collected.append(row)\n",
    "            if len(collected) >= limit:\n",
    "                break\n",
    "\n",
    "        page += 1\n",
    "\n",
    "    return collected[:limit]"
   ]
  },
  {
   "cell_type": "code",
   "execution_count": 3,
   "id": "50e993b7-7ce5-478c-badd-2a92a515954c",
   "metadata": {},
   "outputs": [],
   "source": [
    "# Example: top 50 users by likes received, across all time\n",
    "users = fetch_user_directory(\n",
    "    DISCOURSE_URL,\n",
    "    order=\"likes_received\",\n",
    "    period=\"all\",\n",
    "    limit=50,\n",
    "    avatar_size=120,\n",
    ")"
   ]
  },
  {
   "cell_type": "code",
   "execution_count": 10,
   "id": "9d060bec-80d7-4b49-b165-9c7003728359",
   "metadata": {},
   "outputs": [],
   "source": [
    "with open(\"users_with_likes.json\", \"w\") as f:\n",
    "    json.dump(users, f)"
   ]
  },
  {
   "cell_type": "code",
   "execution_count": null,
   "id": "757b9a19-a443-477d-b56e-96b8b839cea7",
   "metadata": {},
   "outputs": [],
   "source": []
  },
  {
   "cell_type": "code",
   "execution_count": null,
   "id": "cfa6d83a-b165-468e-82ec-137a05f48a3c",
   "metadata": {},
   "outputs": [],
   "source": []
  },
  {
   "cell_type": "code",
   "execution_count": null,
   "id": "424e6522-6227-4b56-beb3-0c661516221e",
   "metadata": {},
   "outputs": [],
   "source": []
  },
  {
   "cell_type": "code",
   "execution_count": null,
   "id": "5d84e322-98da-4226-a885-7a63b14bf8fe",
   "metadata": {},
   "outputs": [],
   "source": []
  }
 ],
 "metadata": {
  "kernelspec": {
   "display_name": "Python 3 (ipykernel)",
   "language": "python",
   "name": "python3"
  },
  "language_info": {
   "codemirror_mode": {
    "name": "ipython",
    "version": 3
   },
   "file_extension": ".py",
   "mimetype": "text/x-python",
   "name": "python",
   "nbconvert_exporter": "python",
   "pygments_lexer": "ipython3",
   "version": "3.12.10"
  }
 },
 "nbformat": 4,
 "nbformat_minor": 5
}
