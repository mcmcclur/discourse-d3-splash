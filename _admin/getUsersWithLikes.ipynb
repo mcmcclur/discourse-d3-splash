{
 "cells": [
  {
   "cell_type": "markdown",
   "id": "06b408e8-e465-4b74-830b-29f962f91c86",
   "metadata": {},
   "source": [
    "# Get user info from a Discourse instance"
   ]
  },
  {
   "cell_type": "markdown",
   "id": "a9204a22-9a98-41fd-a832-b705355fa17d",
   "metadata": {},
   "source": [
    "Use the Discourse API to download some fun information to display in a bubble chart."
   ]
  },
  {
   "cell_type": "code",
   "execution_count": null,
   "id": "48644ed2-a0d5-4c1d-85bb-2cf67b9689c6",
   "metadata": {},
   "outputs": [],
   "source": [
    "import requests\n",
    "import json\n",
    "from urllib.parse import urljoin\n",
    "from time import sleep\n",
    "\n",
    "# You'll need an API Key;\n",
    "# Mine is stored in a .gitignored file.\n",
    "with open(\"api_key.txt\", \"r\") as f:\n",
    "    line = f.read().strip()\n",
    "API_KEY = line.split('\"')[1]\n",
    "\n",
    "DISCOURSE_URL = \"https://discourse.marksmath.org\" # or your site\n",
    "API_USERNAME = \"mark\"  # or your username"
   ]
  },
  {
   "cell_type": "code",
   "execution_count": null,
   "id": "0c8b1b22-7ed3-4e43-b23c-2bb935779593",
   "metadata": {},
   "outputs": [],
   "source": [
    "def _headers():\n",
    "    return {\n",
    "        \"Api-Key\": API_KEY,\n",
    "        \"Api-Username\": API_USERNAME,\n",
    "    }\n",
    "\n",
    "def _avatar_url(base_url: str, avatar_template: str, size: int = 120) -> str:\n",
    "    \"\"\"\n",
    "    Discourse returns an avatar_template like:\n",
    "      \"/user_avatar/discourse.example.com/mark/{size}/123_2.png\"\n",
    "    Replace {size} and join with base URL.\n",
    "    \"\"\"\n",
    "    if not avatar_template:\n",
    "        return \"\"\n",
    "    return urljoin(base_url, avatar_template.replace(\"{size}\", str(size)))\n",
    "\n",
    "def fetch_user_email(base_url, username):\n",
    "    email_url = f\"{base_url}/u/{username}/emails.json\"\n",
    "    r = requests.get(email_url, headers=_headers(), timeout=15)\n",
    "    if r.status_code == 200:\n",
    "        payload = r.json()\n",
    "        # Usually looks like: {'email': 'email@example.com'}\n",
    "        return payload.get('email')\n",
    "    return None\n",
    "\n",
    "def fetch_user_directory(\n",
    "    base_url: str,\n",
    "    order: str = \"likes_received\",\n",
    "    period: str = \"all\",   # typical values: 'all', 'yearly', 'quarterly', 'monthly', 'weekly', 'daily'\n",
    "    limit: int = 50,\n",
    "    avatar_size: int = 120,\n",
    ") -> list[dict]:\n",
    "    \"\"\"\n",
    "    Fetch up to `limit` users from the Discourse user directory, ordered by `order`.\n",
    "    Returns a list of dicts with username, name, activity metrics, and avatar_url.\n",
    "    Requires the 'user directory' feature to be enabled on the Discourse site.\n",
    "    \"\"\"\n",
    "    collected = []\n",
    "    page = 0\n",
    "\n",
    "    while len(collected) < limit:\n",
    "        url = f\"{base_url}/directory_items.json\"\n",
    "        params = {\n",
    "            \"period\": period,\n",
    "            \"order\": order,\n",
    "            \"page\": page,\n",
    "        }\n",
    "        r = requests.get(url, headers=_headers(), params=params, timeout=30)\n",
    "        if r.status_code == 404:\n",
    "            raise RuntimeError(\n",
    "                \"User directory not enabled or not visible to this API key. \"\n",
    "            )\n",
    "        r.raise_for_status()\n",
    "        payload = r.json()\n",
    "\n",
    "        items = payload.get(\"directory_items\", [])\n",
    "        if not items:\n",
    "            break  # no more results\n",
    "\n",
    "        for it in items:\n",
    "            try:\n",
    "                # We're going to grab each user's email every step through this loop\n",
    "                # so that we can ensure that the username is the first part of their\n",
    "                # email address.\n",
    "                # Set sleep just larger than 1 to avoid the 60 API requests per \n",
    "                # minute rule.\n",
    "                sleep(1.1)\n",
    "                u = it.get(\"user\", {}) or {}\n",
    "                username = u.get(\"username\")\n",
    "                email = fetch_user_email(base_url, username)\n",
    "                if email.split(\"@\")[0] == username:\n",
    "                    print([username, ' IS the EMAIL'])\n",
    "                    username = \"Anonymous user\"\n",
    "                row = {\n",
    "                    \"username\": username,\n",
    "                    \"user_id\": u.get(\"id\"),\n",
    "                    \"likes_received\": it.get(\"likes_received\"),\n",
    "                    # \"likes_given\": it.get(\"likes_given\"),\n",
    "                    # \"post_count\": it.get(\"post_count\"),\n",
    "                    # \"topic_count\": it.get(\"topic_count\"),\n",
    "                    # \"time_read\": it.get(\"time_read\"),\n",
    "                    # \"days_visited\": it.get(\"days_visited\"),\n",
    "                    # \"posts_read\": it.get(\"posts_read\"),\n",
    "                    # \"recent_time_read\": it.get(\"recent_time_read\"),\n",
    "                    # \"recent_posts_read\": it.get(\"recent_posts_read\"),\n",
    "                    \"avatar_url\": _avatar_url(base_url, u.get(\"avatar_template\"), size=avatar_size)\n",
    "                }\n",
    "                collected.append(row)\n",
    "                if len(collected) >= limit:\n",
    "                    break\n",
    "            except Exception as e:\n",
    "                print(e)\n",
    "        page += 1\n",
    "\n",
    "    return collected[:limit]"
   ]
  },
  {
   "cell_type": "code",
   "execution_count": null,
   "id": "50e993b7-7ce5-478c-badd-2a92a515954c",
   "metadata": {},
   "outputs": [],
   "source": [
    "# Example: top 80 users by likes received, across all time\n",
    "users = fetch_user_directory(\n",
    "    DISCOURSE_URL,\n",
    "    order=\"likes_received\",\n",
    "    period=\"all\",\n",
    "    limit=80,\n",
    "    avatar_size=120,\n",
    ")"
   ]
  },
  {
   "cell_type": "code",
   "execution_count": null,
   "id": "e08175da-64ac-45be-b830-1cfa364eba9f",
   "metadata": {},
   "outputs": [],
   "source": [
    "len(users)"
   ]
  },
  {
   "cell_type": "code",
   "execution_count": null,
   "id": "9d060bec-80d7-4b49-b165-9c7003728359",
   "metadata": {},
   "outputs": [],
   "source": [
    "with open(\"users_with_likes.json\", \"w\") as f:\n",
    "    json.dump(users, f)"
   ]
  },
  {
   "cell_type": "code",
   "execution_count": null,
   "id": "b48a08f5-8c6b-4299-a61b-f0d97fcef2dc",
   "metadata": {},
   "outputs": [],
   "source": []
  }
 ],
 "metadata": {
  "kernelspec": {
   "display_name": "Python 3 (ipykernel)",
   "language": "python",
   "name": "python3"
  },
  "language_info": {
   "codemirror_mode": {
    "name": "ipython",
    "version": 3
   },
   "file_extension": ".py",
   "mimetype": "text/x-python",
   "name": "python",
   "nbconvert_exporter": "python",
   "pygments_lexer": "ipython3",
   "version": "3.12.10"
  }
 },
 "nbformat": 4,
 "nbformat_minor": 5
}
